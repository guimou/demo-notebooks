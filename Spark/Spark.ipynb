{
 "cells": [
  {
   "cell_type": "markdown",
   "metadata": {},
   "source": [
    "## S3 init"
   ]
  },
  {
   "cell_type": "code",
   "execution_count": 1,
   "metadata": {},
   "outputs": [],
   "source": [
    "# Enter you Access and Secret keys. They're the ones that were displayed in the instructions.\n",
    "s3_access_key_id = 'QHPHVRME5HNBBSXQ5FI7'\n",
    "s3_secret_access_key = 'dzmMGm7FOjLztrTVCv0aCtJcwue9EQwfU715JZk2'\n",
    "\n",
    "# Do not change this value, this is the internal location for the RGW\n",
    "s3_endpoint_url = 'http://rook-ceph-rgw-s3a.openshift-storage.svc.cluster.local'"
   ]
  },
  {
   "cell_type": "code",
   "execution_count": 2,
   "metadata": {},
   "outputs": [],
   "source": [
    "import boto3\n",
    "import botocore"
   ]
  },
  {
   "cell_type": "code",
   "execution_count": 3,
   "metadata": {},
   "outputs": [],
   "source": [
    "s3 = boto3.client('s3',\n",
    "                endpoint_url = s3_endpoint_url,\n",
    "                aws_access_key_id = s3_access_key_id,\n",
    "                aws_secret_access_key = s3_secret_access_key,\n",
    "                region_name = 'default',\n",
    "                config=botocore.client.Config(signature_version = 's3'))"
   ]
  },
  {
   "cell_type": "markdown",
   "metadata": {},
   "source": [
    "## Spark init"
   ]
  },
  {
   "cell_type": "code",
   "execution_count": 4,
   "metadata": {
    "scrolled": true
   },
   "outputs": [
    {
     "data": {
      "text/plain": [
       "['spark-cluster-gmoutier-40redhat-2ecom-w-mltjk',\n",
       " 'spark-cluster-gmoutier-40redhat-2ecom-w-hjrf4']"
      ]
     },
     "execution_count": 4,
     "metadata": {},
     "output_type": "execute_result"
    }
   ],
   "source": [
    "from pyspark.sql import SparkSession, SQLContext\n",
    "import pyspark\n",
    "from pyspark.context import SparkContext\n",
    "import os\n",
    "import socket\n",
    "\n",
    "# create a spark session\n",
    "spark_cluster_url = f\"spark://{os.environ['SPARK_CLUSTER']}:7077\"\n",
    "spark = SparkSession.builder.master(spark_cluster_url).getOrCreate()\n",
    "\n",
    "# test your spark connection\n",
    "spark.range(5, numPartitions=5).rdd.map(lambda x: socket.gethostname()).distinct().collect()"
   ]
  },
  {
   "cell_type": "code",
   "execution_count": 5,
   "metadata": {},
   "outputs": [
    {
     "name": "stdout",
     "output_type": "stream",
     "text": [
      "Spark version = 2.4.5\n"
     ]
    }
   ],
   "source": [
    "print(f\"Spark version = {spark.version}\")"
   ]
  },
  {
   "cell_type": "code",
   "execution_count": 6,
   "metadata": {},
   "outputs": [
    {
     "name": "stdout",
     "output_type": "stream",
     "text": [
      "Hadoop version = 2.7.3\n"
     ]
    }
   ],
   "source": [
    "print(f\"Hadoop version = {spark._jvm.org.apache.hadoop.util.VersionInfo.getVersion()}\")"
   ]
  },
  {
   "cell_type": "markdown",
   "metadata": {},
   "source": [
    "## Spark + S3"
   ]
  },
  {
   "cell_type": "code",
   "execution_count": 7,
   "metadata": {},
   "outputs": [],
   "source": [
    "hadoopConf = spark.sparkContext._jsc.hadoopConfiguration()\n",
    "hadoopConf.set(\"fs.s3a.endpoint\", s3_endpoint_url)\n",
    "hadoopConf.set(\"fs.s3a.access.key\", s3_access_key_id)\n",
    "hadoopConf.set(\"fs.s3a.secret.key\", s3_secret_access_key)\n",
    "hadoopConf.set(\"fs.s3a.path.style.access\", \"true\")\n",
    "hadoopConf.set(\"fs.s3a.connection.ssl.enabled\", \"false\") # false if not https"
   ]
  },
  {
   "cell_type": "code",
   "execution_count": 8,
   "metadata": {},
   "outputs": [
    {
     "name": "stdout",
     "output_type": "stream",
     "text": [
      "http://rook-ceph-rgw-s3a.openshift-storage.svc.cluster.local\n",
      "QHPHVRME5HNBBSXQ5FI7\n",
      "dzmMGm7FOjLztrTVCv0aCtJcwue9EQwfU715JZk2\n",
      "true\n",
      "false\n"
     ]
    }
   ],
   "source": [
    "print(hadoopConf.get(\"fs.s3a.endpoint\"))\n",
    "print(hadoopConf.get(\"fs.s3a.access.key\"))\n",
    "print(hadoopConf.get(\"fs.s3a.secret.key\"))\n",
    "print(hadoopConf.get(\"fs.s3a.path.style.access\"))\n",
    "print(hadoopConf.get(\"fs.s3a.connection.ssl.enabled\"))"
   ]
  },
  {
   "cell_type": "code",
   "execution_count": 15,
   "metadata": {},
   "outputs": [],
   "source": [
    "hadoopConf.set(\"fs.s3a.signing-algorithm\", \"S3SignerType\")"
   ]
  },
  {
   "cell_type": "code",
   "execution_count": 26,
   "metadata": {},
   "outputs": [
    {
     "data": {
      "text/html": [
       "<div>\n",
       "<style scoped>\n",
       "    .dataframe tbody tr th:only-of-type {\n",
       "        vertical-align: middle;\n",
       "    }\n",
       "\n",
       "    .dataframe tbody tr th {\n",
       "        vertical-align: top;\n",
       "    }\n",
       "\n",
       "    .dataframe thead th {\n",
       "        text-align: right;\n",
       "    }\n",
       "</style>\n",
       "<table border=\"1\" class=\"dataframe\">\n",
       "  <thead>\n",
       "    <tr style=\"text-align: right;\">\n",
       "      <th></th>\n",
       "      <th>Timestamp</th>\n",
       "      <th>Your Name</th>\n",
       "      <th>_c2</th>\n",
       "      <th>Primary Audience Engaged</th>\n",
       "      <th>Key People (Presenters, Attendees, Organizers, etc)</th>\n",
       "      <th>Outcome</th>\n",
       "      <th>Full Notes</th>\n",
       "      <th>Email Address</th>\n",
       "      <th>Date</th>\n",
       "      <th>Notes</th>\n",
       "      <th>Lowlights</th>\n",
       "      <th>Learnings</th>\n",
       "      <th>Trip Region</th>\n",
       "      <th>Number of Days</th>\n",
       "      <th>Estimated Cost (USD)</th>\n",
       "      <th>Product Mix</th>\n",
       "    </tr>\n",
       "  </thead>\n",
       "  <tbody>\n",
       "    <tr>\n",
       "      <th>0</th>\n",
       "      <td>1/24/2017 16:46:47</td>\n",
       "      <td>John Doe</td>\n",
       "      <td>None</td>\n",
       "      <td>Customer</td>\n",
       "      <td>Customer 1</td>\n",
       "      <td>Successful</td>\n",
       "      <td>None</td>\n",
       "      <td>person@email.com</td>\n",
       "      <td>1/24/2017</td>\n",
       "      <td>Cras in purus eu magna vulputate luctus. Cum s...</td>\n",
       "      <td>In quis justo. Maecenas rhoncus aliquam lacus....</td>\n",
       "      <td>In quis justo. Maecenas rhoncus aliquam lacus....</td>\n",
       "      <td>NA</td>\n",
       "      <td>1</td>\n",
       "      <td>200</td>\n",
       "      <td>None</td>\n",
       "    </tr>\n",
       "    <tr>\n",
       "      <th>1</th>\n",
       "      <td>2/1/2017 12:09:48</td>\n",
       "      <td>John Doe</td>\n",
       "      <td>None</td>\n",
       "      <td>Event</td>\n",
       "      <td>Customer 2</td>\n",
       "      <td>Unsuccessful</td>\n",
       "      <td>None</td>\n",
       "      <td>person@email.com</td>\n",
       "      <td>1/16/2017</td>\n",
       "      <td>Nullam sit amet turpis elementum ligula vehicu...</td>\n",
       "      <td>Phasellus sit amet erat. Nulla tempus. Vivamus...</td>\n",
       "      <td>Sed sagittis. Nam congue, risus semper porta v...</td>\n",
       "      <td>NA</td>\n",
       "      <td>5</td>\n",
       "      <td>200</td>\n",
       "      <td>None</td>\n",
       "    </tr>\n",
       "    <tr>\n",
       "      <th>2</th>\n",
       "      <td>2/3/2017 9:16:38</td>\n",
       "      <td>John Doe</td>\n",
       "      <td>None</td>\n",
       "      <td>Field</td>\n",
       "      <td>Customer 3</td>\n",
       "      <td>Unsuccessful</td>\n",
       "      <td>None</td>\n",
       "      <td>person@email.com</td>\n",
       "      <td>1/31/2017</td>\n",
       "      <td>Mauris enim leo, rhoncus sed, vestibulum sit a...</td>\n",
       "      <td>Etiam vel augue. Vestibulum rutrum rutrum nequ...</td>\n",
       "      <td>In sagittis dui vel nisl. Duis ac nibh. Fusce ...</td>\n",
       "      <td>EMEA</td>\n",
       "      <td>3</td>\n",
       "      <td>200</td>\n",
       "      <td>None</td>\n",
       "    </tr>\n",
       "    <tr>\n",
       "      <th>3</th>\n",
       "      <td>2/5/2017 13:41:22</td>\n",
       "      <td>John Doe</td>\n",
       "      <td>None</td>\n",
       "      <td>Engineering</td>\n",
       "      <td>Customer 4</td>\n",
       "      <td>Successful</td>\n",
       "      <td>None</td>\n",
       "      <td>person@email.com</td>\n",
       "      <td>1/25/2017</td>\n",
       "      <td>Duis at velit eu est congue elementum. In hac ...</td>\n",
       "      <td>Mauris sit amet eros. Suspendisse accumsan tor...</td>\n",
       "      <td>Nullam porttitor lacus at turpis. Donec posuer...</td>\n",
       "      <td>EMEA</td>\n",
       "      <td>2</td>\n",
       "      <td>2000</td>\n",
       "      <td>None</td>\n",
       "    </tr>\n",
       "    <tr>\n",
       "      <th>4</th>\n",
       "      <td>2/5/2017 13:47:19</td>\n",
       "      <td>John Doe</td>\n",
       "      <td>None</td>\n",
       "      <td>Event</td>\n",
       "      <td>Customer 5</td>\n",
       "      <td>Successful</td>\n",
       "      <td>None</td>\n",
       "      <td>person@email.com</td>\n",
       "      <td>1/27/2017</td>\n",
       "      <td>Sed sagittis. Nam congue, risus semper porta v...</td>\n",
       "      <td>Nulla neque libero, convallis eget, eleifend l...</td>\n",
       "      <td>Proin leo odio, porttitor id, consequat in, co...</td>\n",
       "      <td>EMEA</td>\n",
       "      <td>3</td>\n",
       "      <td>1000</td>\n",
       "      <td>None</td>\n",
       "    </tr>\n",
       "  </tbody>\n",
       "</table>\n",
       "</div>"
      ],
      "text/plain": [
       "            Timestamp Your Name   _c2 Primary Audience Engaged  \\\n",
       "0  1/24/2017 16:46:47  John Doe  None                 Customer   \n",
       "1   2/1/2017 12:09:48  John Doe  None                    Event   \n",
       "2    2/3/2017 9:16:38  John Doe  None                    Field   \n",
       "3   2/5/2017 13:41:22  John Doe  None              Engineering   \n",
       "4   2/5/2017 13:47:19  John Doe  None                    Event   \n",
       "\n",
       "  Key People (Presenters, Attendees, Organizers, etc)       Outcome  \\\n",
       "0                                         Customer 1     Successful   \n",
       "1                                         Customer 2   Unsuccessful   \n",
       "2                                         Customer 3   Unsuccessful   \n",
       "3                                         Customer 4     Successful   \n",
       "4                                         Customer 5     Successful   \n",
       "\n",
       "  Full Notes     Email Address       Date  \\\n",
       "0       None  person@email.com  1/24/2017   \n",
       "1       None  person@email.com  1/16/2017   \n",
       "2       None  person@email.com  1/31/2017   \n",
       "3       None  person@email.com  1/25/2017   \n",
       "4       None  person@email.com  1/27/2017   \n",
       "\n",
       "                                               Notes  \\\n",
       "0  Cras in purus eu magna vulputate luctus. Cum s...   \n",
       "1  Nullam sit amet turpis elementum ligula vehicu...   \n",
       "2  Mauris enim leo, rhoncus sed, vestibulum sit a...   \n",
       "3  Duis at velit eu est congue elementum. In hac ...   \n",
       "4  Sed sagittis. Nam congue, risus semper porta v...   \n",
       "\n",
       "                                           Lowlights  \\\n",
       "0  In quis justo. Maecenas rhoncus aliquam lacus....   \n",
       "1  Phasellus sit amet erat. Nulla tempus. Vivamus...   \n",
       "2  Etiam vel augue. Vestibulum rutrum rutrum nequ...   \n",
       "3  Mauris sit amet eros. Suspendisse accumsan tor...   \n",
       "4  Nulla neque libero, convallis eget, eleifend l...   \n",
       "\n",
       "                                           Learnings Trip Region  \\\n",
       "0  In quis justo. Maecenas rhoncus aliquam lacus....          NA   \n",
       "1  Sed sagittis. Nam congue, risus semper porta v...          NA   \n",
       "2  In sagittis dui vel nisl. Duis ac nibh. Fusce ...        EMEA   \n",
       "3  Nullam porttitor lacus at turpis. Donec posuer...        EMEA   \n",
       "4  Proin leo odio, porttitor id, consequat in, co...        EMEA   \n",
       "\n",
       "  Number of Days Estimated Cost (USD) Product Mix  \n",
       "0              1                  200        None  \n",
       "1              5                  200        None  \n",
       "2              3                  200        None  \n",
       "3              2                 2000        None  \n",
       "4              3                 1000        None  "
      ]
     },
     "execution_count": 26,
     "metadata": {},
     "output_type": "execute_result"
    }
   ],
   "source": [
    "s3_bucket = 'DATA'\n",
    "data = spark.read.csv('s3a://' + s3_bucket + '/sample_data.csv',sep=\",\", header=True)\n",
    "\n",
    "df = data.toPandas()\n",
    "df.head()"
   ]
  },
  {
   "cell_type": "markdown",
   "metadata": {},
   "source": [
    "## S3 Stuff"
   ]
  },
  {
   "cell_type": "code",
   "execution_count": 21,
   "metadata": {},
   "outputs": [
    {
     "name": "stdout",
     "output_type": "stream",
     "text": [
      "data_bucket\n"
     ]
    }
   ],
   "source": [
    "for bucket in s3.list_buckets()['Buckets']:\n",
    "    print(bucket['Name'])"
   ]
  },
  {
   "cell_type": "code",
   "execution_count": 24,
   "metadata": {},
   "outputs": [
    {
     "name": "stdout",
     "output_type": "stream",
     "text": [
      "sample_data.csv\n"
     ]
    }
   ],
   "source": [
    "bucket_name='DATA'\n",
    "for item in s3.list_objects_v2(Bucket=bucket_name)['Contents']:\n",
    "    print(item['Key'])"
   ]
  },
  {
   "cell_type": "code",
   "execution_count": 20,
   "metadata": {},
   "outputs": [
    {
     "data": {
      "text/plain": [
       "{'ResponseMetadata': {'RequestId': 'tx000000000000000001b50-0060075c17-aca5-s3a',\n",
       "  'HostId': '',\n",
       "  'HTTPStatusCode': 200,\n",
       "  'HTTPHeaders': {'x-amz-request-id': 'tx000000000000000001b50-0060075c17-aca5-s3a',\n",
       "   'content-length': '0',\n",
       "   'date': 'Tue, 19 Jan 2021 22:24:23 GMT',\n",
       "   'connection': 'Keep-Alive'},\n",
       "  'RetryAttempts': 0}}"
      ]
     },
     "execution_count": 20,
     "metadata": {},
     "output_type": "execute_result"
    }
   ],
   "source": [
    "s3.create_bucket(Bucket='DATA')"
   ]
  },
  {
   "cell_type": "code",
   "execution_count": 22,
   "metadata": {},
   "outputs": [],
   "source": [
    "s3.upload_file(\"sample_data.csv\", \"DATA\", \"sample_data.csv\")"
   ]
  }
 ],
 "metadata": {
  "kernelspec": {
   "display_name": "Python 3",
   "language": "python",
   "name": "python3"
  },
  "language_info": {
   "codemirror_mode": {
    "name": "ipython",
    "version": 3
   },
   "file_extension": ".py",
   "mimetype": "text/x-python",
   "name": "python",
   "nbconvert_exporter": "python",
   "pygments_lexer": "ipython3",
   "version": "3.6.9"
  }
 },
 "nbformat": 4,
 "nbformat_minor": 4
}
