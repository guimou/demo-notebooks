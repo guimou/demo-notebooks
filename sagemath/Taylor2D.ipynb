{
 "cells": [
  {
   "cell_type": "code",
   "execution_count": null,
   "id": "c784e114-72d1-4f51-bd8e-50363f11ba22",
   "metadata": {},
   "outputs": [],
   "source": [
    "var('x y')\n",
    "var('xx yy')\n",
    "G = sin(xx^2 + yy^2) * cos(yy) * exp(-0.5*(xx^2+yy^2))\n",
    "def F(x,y):\n",
    "    return G.subs(xx=x).subs(yy=y)\n",
    "plotF = plot3d(F, (0.4, 2), (0.4, 2), adaptive=True, color='blue')\n",
    "@interact\n",
    "def _(x0=(0.5,1.5), y0=(0.5, 1.5),\n",
    "      order=[1..10]):\n",
    "    F0 = float(G.subs(xx=x0).subs(yy=y0))\n",
    "    P = (x0, y0, F0)\n",
    "    dot = point3d(P, size=15, color='red')\n",
    "    plot = dot + plotF\n",
    "    approx = F0\n",
    "    for n in range(1, order+1):\n",
    "        for i in range(n+1):\n",
    "            if i == 0:\n",
    "                deriv = G.diff(yy, n)\n",
    "            elif i == n:\n",
    "                deriv = G.diff(xx, n)\n",
    "            else:\n",
    "                deriv = G.diff(xx, i).diff(yy, n-i)\n",
    "            deriv = float(deriv.subs(xx=x0).subs(yy=y0))\n",
    "            coeff = binomial(n, i)/factorial(n)\n",
    "            approx += coeff * deriv * (x-x0)^i * (y-y0)^(n-i)\n",
    "    plot += plot3d(approx, (x, 0.4, 1.6), \n",
    "             (y, 0.4, 1.6), color='red', opacity=0.7)\n",
    "    pretty_print(html('$F(x,y) = e^{-(x^2+y^2)/2} \\\\cos(y) \\\\sin(x^2+y^2)$'))\n",
    "    show(plot)"
   ]
  }
 ],
 "metadata": {
  "kernelspec": {
   "display_name": "SageMath 9.3",
   "language": "sage",
   "name": "sagemath"
  },
  "language_info": {
   "codemirror_mode": {
    "name": "ipython",
    "version": 3
   },
   "file_extension": ".py",
   "mimetype": "text/x-python",
   "name": "python",
   "nbconvert_exporter": "python",
   "pygments_lexer": "ipython3",
   "version": "3.9.10"
  }
 },
 "nbformat": 4,
 "nbformat_minor": 5
}
